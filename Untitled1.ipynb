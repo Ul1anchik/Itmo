{
  "nbformat": 4,
  "nbformat_minor": 0,
  "metadata": {
    "colab": {
      "provenance": [],
      "authorship_tag": "ABX9TyNBCfd2IS5ipTgSJ/RhIAMy"
    },
    "kernelspec": {
      "name": "python3",
      "display_name": "Python 3"
    },
    "language_info": {
      "name": "python"
    }
  },
  "cells": [
    {
      "cell_type": "code",
      "execution_count": 1,
      "metadata": {
        "id": "c52ggG9-xF7I"
      },
      "outputs": [],
      "source": [
        "#тестовый файл для загрузки"
      ]
    }
  ]
}